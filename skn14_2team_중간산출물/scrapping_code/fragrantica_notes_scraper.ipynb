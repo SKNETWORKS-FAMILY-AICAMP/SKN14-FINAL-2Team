{
 "cells": [
  {
   "cell_type": "markdown",
   "id": "10a53eba",
   "metadata": {},
   "source": [
    "\n",
    "# Fragrantica 노트 스크래퍼 (.ipynb)\n",
    "\n",
    "**기능**: 카테고리 앵커(대분류)를 기준으로 각 섹션의 `.notebox`에서 **노트명**, **노트 상세 URL**, **이미지 src(쿼리 제거)**, **이미지 alt**, **카테고리명**을 추출하여 CSV로 저장합니다.\n",
    "\n",
    "> 스크래핑 전 반드시 해당 사이트의 이용약관/robots.txt를 확인하세요. 요청 빈도는 낮게 유지하고 `User-Agent`를 지정하세요.\n"
   ]
  },
  {
   "cell_type": "markdown",
   "id": "59642cc7",
   "metadata": {},
   "source": [
    "## 1) 환경 설정"
   ]
  },
  {
   "cell_type": "code",
   "execution_count": 2,
   "id": "355c8b3c",
   "metadata": {},
   "outputs": [
    {
     "name": "stdout",
     "output_type": "stream",
     "text": [
      "Requirement already satisfied: requests in c:\\users\\playdata1\\miniconda3\\envs\\web_server_env\\lib\\site-packages (2.32.4)\n",
      "Requirement already satisfied: beautifulsoup4 in c:\\users\\playdata1\\miniconda3\\envs\\web_server_env\\lib\\site-packages (4.13.4)\n",
      "Requirement already satisfied: lxml in c:\\users\\playdata1\\miniconda3\\envs\\web_server_env\\lib\\site-packages (6.0.0)\n",
      "Requirement already satisfied: charset_normalizer<4,>=2 in c:\\users\\playdata1\\miniconda3\\envs\\web_server_env\\lib\\site-packages (from requests) (3.4.2)\n",
      "Requirement already satisfied: idna<4,>=2.5 in c:\\users\\playdata1\\miniconda3\\envs\\web_server_env\\lib\\site-packages (from requests) (2.10)\n",
      "Requirement already satisfied: urllib3<3,>=1.21.1 in c:\\users\\playdata1\\miniconda3\\envs\\web_server_env\\lib\\site-packages (from requests) (2.5.0)\n",
      "Requirement already satisfied: certifi>=2017.4.17 in c:\\users\\playdata1\\miniconda3\\envs\\web_server_env\\lib\\site-packages (from requests) (2025.8.3)\n",
      "Requirement already satisfied: soupsieve>1.2 in c:\\users\\playdata1\\miniconda3\\envs\\web_server_env\\lib\\site-packages (from beautifulsoup4) (2.7)\n",
      "Requirement already satisfied: typing-extensions>=4.0.0 in c:\\users\\playdata1\\miniconda3\\envs\\web_server_env\\lib\\site-packages (from beautifulsoup4) (4.14.1)\n",
      "Note: you may need to restart the kernel to use updated packages.\n"
     ]
    }
   ],
   "source": [
    "\n",
    "# 필요시 설치 (로컬/런타임 환경에 따라 주석 해제)\n",
    "%pip install requests beautifulsoup4 lxml\n"
   ]
  },
  {
   "cell_type": "markdown",
   "id": "7aa094d4",
   "metadata": {},
   "source": [
    "## 2) 라이브러리 임포트 & 헬퍼 함수"
   ]
  },
  {
   "cell_type": "code",
   "execution_count": 4,
   "id": "5aeaad77",
   "metadata": {},
   "outputs": [],
   "source": [
    "\n",
    "import csv\n",
    "import time\n",
    "from urllib.parse import urljoin, urlparse, urlunparse\n",
    "import requests\n",
    "from bs4 import BeautifulSoup\n",
    "\n",
    "HEADERS = {\n",
    "    \"User-Agent\": (\n",
    "        \"Mozilla/5.0 (Windows NT 10.0; Win64; x64) \"\n",
    "        \"AppleWebKit/537.36 (KHTML, like Gecko) \"\n",
    "        \"Chrome/120.0.0.0 Safari/537.36\"\n",
    "    )\n",
    "}\n",
    "\n",
    "def strip_query(url: str) -> str:\n",
    "    \"\"\"쿼리스트링/프래그먼트 제거하여 순수 URL 반환\"\"\"\n",
    "    if not url:\n",
    "        return url\n",
    "    parsed = urlparse(url)\n",
    "    parsed = parsed._replace(query=\"\", fragment=\"\")\n",
    "    return urlunparse(parsed)\n",
    "\n",
    "def fetch_html(url: str, retries: int = 3, backoff: float = 1.0) -> str:\n",
    "    \"\"\"HTTP GET with 재시도/백오프\"\"\"\n",
    "    last_exc = None\n",
    "    for attempt in range(1, retries + 1):\n",
    "        try:\n",
    "            resp = requests.get(url, headers=HEADERS, timeout=20)\n",
    "            if resp.status_code == 200 and resp.text:\n",
    "                return resp.text\n",
    "        except Exception as e:\n",
    "            last_exc = e\n",
    "        time.sleep(backoff * attempt)\n",
    "    if last_exc:\n",
    "        raise last_exc\n",
    "    else:\n",
    "        raise RuntimeError(f\"Failed to fetch {url}\")\n"
   ]
  },
  {
   "cell_type": "markdown",
   "id": "207e0c0a",
   "metadata": {},
   "source": [
    "## 3) 파싱 함수 (카테고리/노트 추출)"
   ]
  },
  {
   "cell_type": "code",
   "execution_count": 5,
   "id": "7b579a97",
   "metadata": {},
   "outputs": [],
   "source": [
    "\n",
    "def find_category_name_from_anchor(anchor_id: str, soup: BeautifulSoup) -> str:\n",
    "    \"\"\"#groupnotes_group_01_title 등 id 요소의 텍스트 반환\"\"\"\n",
    "    if not anchor_id:\n",
    "        return \"\"\n",
    "    title_el = soup.find(id=anchor_id)\n",
    "    return title_el.get_text(strip=True) if title_el else \"\"\n",
    "\n",
    "def extract_sections(soup: BeautifulSoup):\n",
    "    \"\"\"상단 p[data-magellan] 내 #id 목록 수집\"\"\"\n",
    "    sections = []\n",
    "    nav_p = soup.find(\"p\", attrs={\"data-magellan\": True})\n",
    "    if not nav_p:\n",
    "        return sections\n",
    "    for a in nav_p.find_all(\"a\", href=True):\n",
    "        href = a[\"href\"].strip()\n",
    "        if href.startswith(\"#\"):\n",
    "            sections.append(href.lstrip(\"#\"))\n",
    "    return sections\n",
    "\n",
    "def extract_notes_for_section(section_id: str, soup: BeautifulSoup, base_url: str):\n",
    "    \"\"\"섹션 id 기준으로 다음 .grid-x 블록에서 .notebox 추출\"\"\"\n",
    "    notes = []\n",
    "    title_el = soup.find(id=section_id)\n",
    "    if not title_el:\n",
    "        return notes\n",
    "\n",
    "    grid = title_el.find_next(\"div\", class_=\"grid-x\")\n",
    "    while grid and \"grid-x\" in (grid.get(\"class\") or []):\n",
    "        noteboxes = grid.select(\".notebox a[href]\")\n",
    "        if noteboxes:\n",
    "            for a in noteboxes:\n",
    "                note_url = urljoin(base_url, a.get(\"href\", \"\").strip())\n",
    "                note_url = strip_query(note_url)\n",
    "                note_name = a.get_text(strip=True)\n",
    "\n",
    "                img = a.find(\"img\")\n",
    "                img_src = \"\"\n",
    "                if img and img.get(\"src\"):\n",
    "                    img_src = urljoin(base_url, img[\"src\"].strip())\n",
    "                    img_src = strip_query(img_src)\n",
    "                img_alt = img.get(\"alt\", \"\").strip() if img else \"\"\n",
    "\n",
    "                notes.append({\n",
    "                    \"category\": find_category_name_from_anchor(section_id, soup),\n",
    "                    \"note_name\": note_name,\n",
    "                    \"image_url\": img_src,\n",
    "                })\n",
    "            break\n",
    "        grid = grid.find_next(\"div\", class_=\"grid-x\")\n",
    "    return notes\n",
    "\n",
    "\n",
    "def scrape_notes(page_url: str):\n",
    "    html = fetch_html(page_url)\n",
    "    soup = BeautifulSoup(html, \"lxml\")\n",
    "\n",
    "    section_ids = extract_sections(soup)\n",
    "    results = []\n",
    "\n",
    "    if not section_ids:\n",
    "        # fallback: 페이지 전체에서 notebox 수집 (카테고리 없음)\n",
    "        for a in soup.select(\".notebox a[href]\"):\n",
    "            note_name = a.get_text(strip=True)\n",
    "            img = a.find(\"img\")\n",
    "            img_src = strip_query(urljoin(page_url, img[\"src\"])) if img and img.get(\"src\") else \"\"\n",
    "            results.append({\n",
    "                \"category\": \"\",\n",
    "                \"note_name\": note_name,\n",
    "                \"image_url\": img_src,\n",
    "            })\n",
    "        return results\n",
    "\n",
    "    for sid in section_ids:\n",
    "        results.extend(extract_notes_for_section(sid, soup, page_url))\n",
    "\n",
    "    # 중복 제거\n",
    "    seen = set()\n",
    "    deduped = []\n",
    "    for row in results:\n",
    "        key = (row[\"note_name\"], row[\"image_url\"])\n",
    "        if key not in seen:\n",
    "            seen.add(key)\n",
    "            deduped.append(row)\n",
    "    return deduped\n",
    "\n",
    "\n",
    "def save_csv(rows, out_path: str):\n",
    "    fieldnames = [\"category\", \"note_name\", \"image_url\"]\n",
    "    with open(out_path, \"w\", newline=\"\", encoding=\"utf-8\") as f:\n",
    "        writer = csv.DictWriter(f, fieldnames=fieldnames)\n",
    "        writer.writeheader()\n",
    "        writer.writerows(rows)\n"
   ]
  },
  {
   "cell_type": "markdown",
   "id": "b5de19d8",
   "metadata": {},
   "source": [
    "## 4) 실행 파라미터 설정"
   ]
  },
  {
   "cell_type": "code",
   "execution_count": 6,
   "id": "b0b70183",
   "metadata": {},
   "outputs": [
    {
     "name": "stdout",
     "output_type": "stream",
     "text": [
      "PAGE_URL: https://www.fragrantica.com/notes/\n",
      "OUTPUT_CSV: fragrantica_notes.csv\n"
     ]
    }
   ],
   "source": [
    "\n",
    "# ▶︎ 페이지 URL과 출력 CSV 경로를 설정하세요.\n",
    "PAGE_URL = \"https://www.fragrantica.com/notes/\"  # 예시: 노트 인덱스 페이지\n",
    "OUTPUT_CSV = \"fragrantica_notes.csv\"             # 예시 출력 파일명\n",
    "\n",
    "print(\"PAGE_URL:\", PAGE_URL)\n",
    "print(\"OUTPUT_CSV:\", OUTPUT_CSV)\n"
   ]
  },
  {
   "cell_type": "markdown",
   "id": "b3b94cca",
   "metadata": {},
   "source": [
    "## 5) 크롤링 실행 (노트 추출 → CSV 저장)"
   ]
  },
  {
   "cell_type": "code",
   "execution_count": 7,
   "id": "38123ac4",
   "metadata": {},
   "outputs": [
    {
     "name": "stdout",
     "output_type": "stream",
     "text": [
      "Extracted 1707 notes\n",
      "Saved to fragrantica_notes.csv\n"
     ]
    }
   ],
   "source": [
    "rows = scrape_notes(PAGE_URL)\n",
    "print(f\"Extracted {len(rows)} notes\")\n",
    "save_csv(rows, OUTPUT_CSV)\n",
    "print(f\"Saved to {OUTPUT_CSV}\")\n"
   ]
  },
  {
   "cell_type": "markdown",
   "id": "a8e1e7d1",
   "metadata": {},
   "source": [
    "## 6) 결과 미리보기"
   ]
  },
  {
   "cell_type": "code",
   "execution_count": 8,
   "id": "37edb903",
   "metadata": {},
   "outputs": [
    {
     "data": {
      "text/html": [
       "<div>\n",
       "<style scoped>\n",
       "    .dataframe tbody tr th:only-of-type {\n",
       "        vertical-align: middle;\n",
       "    }\n",
       "\n",
       "    .dataframe tbody tr th {\n",
       "        vertical-align: top;\n",
       "    }\n",
       "\n",
       "    .dataframe thead th {\n",
       "        text-align: right;\n",
       "    }\n",
       "</style>\n",
       "<table border=\"1\" class=\"dataframe\">\n",
       "  <thead>\n",
       "    <tr style=\"text-align: right;\">\n",
       "      <th></th>\n",
       "      <th>category</th>\n",
       "      <th>note_name</th>\n",
       "      <th>image_url</th>\n",
       "    </tr>\n",
       "  </thead>\n",
       "  <tbody>\n",
       "    <tr>\n",
       "      <th>0</th>\n",
       "      <td>CITRUS SMELLS</td>\n",
       "      <td>Bergamot</td>\n",
       "      <td>https://fimgs.net/mdimg/sastojci/m.75.jpg</td>\n",
       "    </tr>\n",
       "    <tr>\n",
       "      <th>1</th>\n",
       "      <td>CITRUS SMELLS</td>\n",
       "      <td>Bigarade</td>\n",
       "      <td>https://fimgs.net/mdimg/sastojci/m.1083.jpg</td>\n",
       "    </tr>\n",
       "    <tr>\n",
       "      <th>2</th>\n",
       "      <td>CITRUS SMELLS</td>\n",
       "      <td>Bitter Orange</td>\n",
       "      <td>https://fimgs.net/mdimg/sastojci/m.79.jpg</td>\n",
       "    </tr>\n",
       "    <tr>\n",
       "      <th>3</th>\n",
       "      <td>CITRUS SMELLS</td>\n",
       "      <td>Blood Orange</td>\n",
       "      <td>https://fimgs.net/mdimg/sastojci/m.286.jpg</td>\n",
       "    </tr>\n",
       "    <tr>\n",
       "      <th>4</th>\n",
       "      <td>CITRUS SMELLS</td>\n",
       "      <td>Buddha's hand</td>\n",
       "      <td>https://fimgs.net/mdimg/sastojci/m.1589.jpg</td>\n",
       "    </tr>\n",
       "    <tr>\n",
       "      <th>5</th>\n",
       "      <td>CITRUS SMELLS</td>\n",
       "      <td>Calamansi</td>\n",
       "      <td>https://fimgs.net/mdimg/sastojci/m.1028.jpg</td>\n",
       "    </tr>\n",
       "    <tr>\n",
       "      <th>6</th>\n",
       "      <td>CITRUS SMELLS</td>\n",
       "      <td>Candied Lemon</td>\n",
       "      <td>https://fimgs.net/mdimg/sastojci/m.1485.jpg</td>\n",
       "    </tr>\n",
       "    <tr>\n",
       "      <th>7</th>\n",
       "      <td>CITRUS SMELLS</td>\n",
       "      <td>Chen Pi</td>\n",
       "      <td>https://fimgs.net/mdimg/sastojci/m.1289.jpg</td>\n",
       "    </tr>\n",
       "    <tr>\n",
       "      <th>8</th>\n",
       "      <td>CITRUS SMELLS</td>\n",
       "      <td>Chinotto</td>\n",
       "      <td>https://fimgs.net/mdimg/sastojci/m.866.jpg</td>\n",
       "    </tr>\n",
       "    <tr>\n",
       "      <th>9</th>\n",
       "      <td>CITRUS SMELLS</td>\n",
       "      <td>Citron</td>\n",
       "      <td>https://fimgs.net/mdimg/sastojci/m.373.jpg</td>\n",
       "    </tr>\n",
       "  </tbody>\n",
       "</table>\n",
       "</div>"
      ],
      "text/plain": [
       "        category      note_name                                    image_url\n",
       "0  CITRUS SMELLS       Bergamot    https://fimgs.net/mdimg/sastojci/m.75.jpg\n",
       "1  CITRUS SMELLS       Bigarade  https://fimgs.net/mdimg/sastojci/m.1083.jpg\n",
       "2  CITRUS SMELLS  Bitter Orange    https://fimgs.net/mdimg/sastojci/m.79.jpg\n",
       "3  CITRUS SMELLS   Blood Orange   https://fimgs.net/mdimg/sastojci/m.286.jpg\n",
       "4  CITRUS SMELLS  Buddha's hand  https://fimgs.net/mdimg/sastojci/m.1589.jpg\n",
       "5  CITRUS SMELLS      Calamansi  https://fimgs.net/mdimg/sastojci/m.1028.jpg\n",
       "6  CITRUS SMELLS  Candied Lemon  https://fimgs.net/mdimg/sastojci/m.1485.jpg\n",
       "7  CITRUS SMELLS        Chen Pi  https://fimgs.net/mdimg/sastojci/m.1289.jpg\n",
       "8  CITRUS SMELLS       Chinotto   https://fimgs.net/mdimg/sastojci/m.866.jpg\n",
       "9  CITRUS SMELLS         Citron   https://fimgs.net/mdimg/sastojci/m.373.jpg"
      ]
     },
     "metadata": {},
     "output_type": "display_data"
    }
   ],
   "source": [
    "\n",
    "import pandas as pd\n",
    "from pathlib import Path\n",
    "\n",
    "if Path(OUTPUT_CSV).exists():\n",
    "    df = pd.read_csv(OUTPUT_CSV)\n",
    "    display(df.head(10))\n",
    "else:\n",
    "    print(\"CSV not found yet. Run the previous cell first.\")\n"
   ]
  }
 ],
 "metadata": {
  "kernelspec": {
   "display_name": "web_server_env",
   "language": "python",
   "name": "python3"
  },
  "language_info": {
   "codemirror_mode": {
    "name": "ipython",
    "version": 3
   },
   "file_extension": ".py",
   "mimetype": "text/x-python",
   "name": "python",
   "nbconvert_exporter": "python",
   "pygments_lexer": "ipython3",
   "version": "3.12.11"
  }
 },
 "nbformat": 4,
 "nbformat_minor": 5
}
